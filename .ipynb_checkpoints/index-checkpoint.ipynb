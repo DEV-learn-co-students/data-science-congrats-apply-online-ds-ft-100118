{
 "cells": [
  {
   "cell_type": "markdown",
   "metadata": {},
   "source": [
    "# Congratulations! You’re Ready to Apply"
   ]
  },
  {
   "cell_type": "markdown",
   "metadata": {},
   "source": [
    "Great job, you’ve completed the first nine lessons of our Data Science Bootcamp Prep course! Feel proud of yourself - that’s no easy task. You’re already further along than most folks when it comes to considering a new career path or developing a new skill.\n"
   ]
  },
  {
   "cell_type": "markdown",
   "metadata": {},
   "source": [
    "![](https://s3.amazonaws.com/learn-verified/data-science-assets/great-congratulations-GIF.gif)"
   ]
  },
  {
   "cell_type": "markdown",
   "metadata": {},
   "source": [
    "Given your progress so far, the next best step for you is to start your application to the [full-time Data Science Bootcamp course.](http://go.flatironschool.com/data-science-immersive-application) You’ve demonstrated the passion, dedication, and technical aptitude to be a very strong candidate for our course. And, because we’re committed to helping you succeed in your data science goals we’re going to encourage you to take the next step right now."
   ]
  },
  {
   "cell_type": "markdown",
   "metadata": {},
   "source": [
    "Here’s how:\n",
    "* [Submit a written application](http://go.flatironschool.com/data-science-immersive-application) by telling us a little bit about yourself\n",
    "* Be sure to use the same email when applying as you used here on Learn.co to sign up\n",
    "* That's it"
   ]
  },
  {
   "cell_type": "markdown",
   "metadata": {},
   "source": [
    "Once done, one of our Admissions Advisors (likely Amanda, Tyler, or Annette) will reach back to you directly to schedule a quick chat. Nothing technical. Just a friendly conversation for us to get to know each other better and better understand your goals."
   ]
  },
  {
   "cell_type": "markdown",
   "metadata": {},
   "source": [
    "In the meantime, when you [complete your application](http://go.flatironschool.com/data-science-immersive-application) (and only when) we’ll unlock the next 50 lessons of material for you here in Data Science Bootcamp Prep on Learn.co so you can continue learning, and gaining the skills to be successful in our technical interview and Day 1 of the full course.\n"
   ]
  },
  {
   "cell_type": "markdown",
   "metadata": {},
   "source": [
    "Here’s what you’ll learn in the next section, once you unlock it: \n",
    "\n",
    "* Continuing with programming fundamentals with dictionaries, functions, and loops\n",
    "* Data Visualization: using plots to display data\n",
    "* Introduction to Machine Learning with regression analysis and gradient descent\n",
    "\n",
    "Pretty. Cool. Stuff.\n"
   ]
  },
  {
   "cell_type": "markdown",
   "metadata": {},
   "source": [
    "Got it? Great! [Start your full-time Data Science Bootcamp application](http://go.flatironschool.com/data-science-immersive-application) and we’ll send an access code to your email to unlock the rest of this course. Not looking to apply to our full-time immersive course - [apply to our part-time course, Intro to Data Science](http://go.flatironschool.com/intro-to-data-science-application) (offered in NYC and London), which also unlocks access to the next 50+ lessons."
   ]
  }
 ],
 "metadata": {
  "kernelspec": {
   "display_name": "Python 3",
   "language": "python",
   "name": "python3"
  },
  "language_info": {
   "codemirror_mode": {
    "name": "ipython",
    "version": 3
   },
   "file_extension": ".py",
   "mimetype": "text/x-python",
   "name": "python",
   "nbconvert_exporter": "python",
   "pygments_lexer": "ipython3",
   "version": "3.6.5"
  }
 },
 "nbformat": 4,
 "nbformat_minor": 2
}
